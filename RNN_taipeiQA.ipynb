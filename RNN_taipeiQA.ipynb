{
 "cells": [
  {
   "cell_type": "markdown",
   "metadata": {
    "colab_type": "text",
    "id": "hBKIOK4KGWuh"
   },
   "source": [
    "# **連結google 雲端資料**"
   ]
  },
  {
   "cell_type": "code",
   "execution_count": 1,
   "metadata": {
    "colab": {
     "base_uri": "https://localhost:8080/",
     "height": 128
    },
    "colab_type": "code",
    "id": "QGjAa4WTsShr",
    "outputId": "11bf8e7e-7d78-4b87-cf1c-3dd430f4f14d"
   },
   "outputs": [],
   "source": [
    "# # 取得google drive存取權限\n",
    "# from google.colab import drive\n",
    "# drive.mount('/content/drive', force_remount=True)"
   ]
  },
  {
   "cell_type": "markdown",
   "metadata": {
    "colab_type": "text",
    "id": "azBLSxG7Givg"
   },
   "source": [
    "# Tapiei_QA data"
   ]
  },
  {
   "cell_type": "code",
   "execution_count": 2,
   "metadata": {
    "colab": {},
    "colab_type": "code",
    "id": "6nW_bvaVxysN"
   },
   "outputs": [],
   "source": [
    "# with open('/content/drive/Shared drives/新手村/data/Taipei_QA_new.txt') as file:\n",
    "#   data = file.readlines()  # 以 \\n 為一個單位讀取\n",
    "with open('./Taipei_QA_new.txt') as file:\n",
    "    data = file.readlines()  # 以 \\n 為一個單位讀取\n",
    "  "
   ]
  },
  {
   "cell_type": "code",
   "execution_count": 3,
   "metadata": {
    "colab": {
     "base_uri": "https://localhost:8080/",
     "height": 745
    },
    "colab_type": "code",
    "id": "SBmMl8WXGJZH",
    "outputId": "6d531cd5-0ba8-4eea-c191-a7119bdc20fa"
   },
   "outputs": [],
   "source": [
    "for i,line in enumerate(data):\n",
    "    if i < 20:\n",
    "        print(line)"
   ]
  },
  {
   "cell_type": "code",
   "execution_count": 4,
   "metadata": {
    "colab": {
     "base_uri": "https://localhost:8080/",
     "height": 617
    },
    "colab_type": "code",
    "id": "o25bGFr5HS-Z",
    "outputId": "6fa1c178-7d93-43e9-9429-4236d9c5f300"
   },
   "outputs": [
    {
     "name": "stdout",
     "output_type": "stream",
     "text": [
      "label 臺北市政府文化局\n",
      "question 2018臺北藝術節FAQ\n",
      "\n",
      "label 臺北市政府社會局婦女福利及兒童托育科\n",
      "question 居家式托育服務登記需要提出申請嗎？何時開始受理？去哪裡申請？\n",
      "\n",
      "label 臺北市政府社會局人民團體科\n",
      "question 申請籌組人民團體應備文件為何?\n",
      "\n",
      "label 臺北市政府觀光傳播局\n",
      "question 只要是出租套房都可以檢舉嗎？\n",
      "\n",
      "label 臺北市政府衛生局疾病管制科\n",
      "question 參加臺北市營業場所衛生優良自主管理分級認證有何好處？\n",
      "\n",
      "label 臺北大眾捷運股份有限公司\n",
      "question 於捷運系統內遺失及找尋遺失物之相關處理方式？\n",
      "\n",
      "label 臺北市政府民政局戶籍行政科\n",
      "question 戶政事務所夜間服務時間及項目為何？\n",
      "\n",
      "label 臺北市立聯合醫院\n",
      "question 想做乳癌篩檢，不知如何辨理？\n",
      "\n",
      "label 臺北市政府勞動局職業安全衛生科\n",
      "question 若發現工地未作好安全防護有危害勞工安全或導致公共危險之虞該如何處理？\n",
      "\n",
      "label 臺北市政府兵役局\n",
      "question ●應徵役男延期徵集入營事故表\n",
      "\n",
      "label 臺北市動物保護處動物管理組\n",
      "question 送交動物之家收容之流浪犬貓是否皆有確實作晶片掃描與通知主人？另未植入晶片之犬貓，飼主要如何查詢是否已遭安樂死處理？\n",
      "\n",
      "label 臺北市立文獻館\n",
      "question 古物有哪些法令規定？\n",
      "\n",
      "label 臺北市藝文推廣處\n",
      "question 如何查詢藝文推廣處城市舞台檔期？\n",
      "\n",
      "label 臺北市交通事件裁決所案件管理課\n",
      "question 我要如何辦理將交通違規案件移轉給實際駕駛人（不是我違規駕駛，卻收到紅單，舉發的時間與地點，我根本不在那裡）？需要攜帶什麼文件？\n",
      "\n",
      "label 臺北市政府地政局地價科\n",
      "question 是否所有受理申報登錄之實際資訊，皆會對外公開？公開的方式為何?會不會洩漏個人隱私？\n",
      "\n",
      "label 臺北市動物保護處防疫檢驗組\n",
      "question 家裡如果有養寵物鳥的人要怎麼預防禽流感？\n",
      "\n"
     ]
    }
   ],
   "source": [
    "for i, line in enumerate(data):\n",
    "    sp = line.strip().split(' ')\n",
    "    if (i%500==0) :\n",
    "        print('label',sp[0])\n",
    "        print('question',sp[1]) \n",
    "        print()\n",
    "#     if i == 10 :break "
   ]
  },
  {
   "cell_type": "code",
   "execution_count": 5,
   "metadata": {
    "colab": {
     "base_uri": "https://localhost:8080/",
     "height": 54
    },
    "colab_type": "code",
    "id": "4sKhlgk_Hq-6",
    "outputId": "ce9f5c87-9f85-4f8d-b352-dfddd781d6ce"
   },
   "outputs": [
    {
     "name": "stdout",
     "output_type": "stream",
     "text": [
      "總數 7986\n",
      "類別 149\n"
     ]
    }
   ],
   "source": [
    "num = 0\n",
    "label = []     \n",
    "for i, line in enumerate(data):\n",
    "    num += 1\n",
    "    sp = line.strip().split(' ')\n",
    "    if sp[0] not in label:\n",
    "        label.append(sp[0])\n",
    "print('總數',num)\n",
    "print('類別',len(label))"
   ]
  },
  {
   "cell_type": "markdown",
   "metadata": {
    "colab_type": "text",
    "id": "9Fo52vfTITh9"
   },
   "source": [
    "# 資料前處理"
   ]
  },
  {
   "cell_type": "code",
   "execution_count": 6,
   "metadata": {
    "colab": {
     "base_uri": "https://localhost:8080/",
     "height": 35
    },
    "colab_type": "code",
    "id": "9BMhtUIXIVNp",
    "outputId": "0347cc53-04ec-4c94-f69e-644f67ddc11f"
   },
   "outputs": [
    {
     "name": "stdout",
     "output_type": "stream",
     "text": [
      "2018臺北藝術節FAQ 臺北市政府文化局 7986 7986\n"
     ]
    }
   ],
   "source": [
    "x=[]\n",
    "y=[]\n",
    "for i, line in enumerate(data):\n",
    "    sp = line.strip().split(' ')\n",
    "    x.append(sp[1])     #Q\n",
    "    y.append(sp[0])     #A\n",
    "print(x[0],y[0],len(x),len(y))"
   ]
  },
  {
   "cell_type": "markdown",
   "metadata": {
    "colab_type": "text",
    "id": "s-Wk5DvkIvOR"
   },
   "source": [
    "input 處理"
   ]
  },
  {
   "cell_type": "code",
   "execution_count": 7,
   "metadata": {
    "colab": {
     "base_uri": "https://localhost:8080/",
     "height": 563
    },
    "colab_type": "code",
    "id": "svsCPwTzIv4Z",
    "outputId": "d521084b-13ca-465a-bbd1-427393046487"
   },
   "outputs": [
    {
     "name": "stdout",
     "output_type": "stream",
     "text": [
      "Requirement already satisfied: udicOpenData in /usr/local/lib/python3.5/dist-packages (2.4)\n",
      "Requirement already satisfied: nltk in /usr/local/lib/python3.5/dist-packages (from udicOpenData) (3.4.5)\n",
      "Requirement already satisfied: jieba in /usr/local/lib/python3.5/dist-packages (from udicOpenData) (0.39)\n",
      "Requirement already satisfied: numpy in /usr/local/lib/python3.5/dist-packages (from udicOpenData) (1.17.4)\n",
      "Requirement already satisfied: six in /usr/local/lib/python3.5/dist-packages (from nltk->udicOpenData) (1.11.0)\n"
     ]
    },
    {
     "name": "stderr",
     "output_type": "stream",
     "text": [
      "Building prefix dict from the default dictionary ...\n",
      "Loading model from cache /tmp/jieba.cache\n",
      "Loading model cost 0.520 seconds.\n",
      "Prefix dict has been built succesfully.\n",
      "[nltk_data] Downloading package punkt to /root/nltk_data...\n",
      "[nltk_data]   Package punkt is already up-to-date!\n",
      "[nltk_data] Downloading package averaged_perceptron_tagger to\n",
      "[nltk_data]     /root/nltk_data...\n",
      "[nltk_data]   Package averaged_perceptron_tagger is already up-to-\n",
      "[nltk_data]       date!\n",
      "[nltk_data] Downloading package maxent_ne_chunker to\n",
      "[nltk_data]     /root/nltk_data...\n",
      "[nltk_data]   Package maxent_ne_chunker is already up-to-date!\n",
      "[nltk_data] Downloading package words to /root/nltk_data...\n",
      "[nltk_data]   Package words is already up-to-date!\n",
      "[nltk_data] Downloading package wordnet to /root/nltk_data...\n",
      "[nltk_data]   Package wordnet is already up-to-date!\n"
     ]
    }
   ],
   "source": [
    "#使用實驗室api斷詞 https://github.com/UDICatNCHU/UdicOpenData\n",
    "!pip3 install udicOpenData\n",
    "from udicOpenData.dictionary import *\n",
    "from udicOpenData.stopwords import *"
   ]
  },
  {
   "cell_type": "code",
   "execution_count": 8,
   "metadata": {
    "colab": {
     "base_uri": "https://localhost:8080/",
     "height": 345
    },
    "colab_type": "code",
    "id": "AFOVmUiaKQ_J",
    "outputId": "942a3e3f-ceba-4a8b-f284-d0ac0701d546"
   },
   "outputs": [
    {
     "name": "stdout",
     "output_type": "stream",
     "text": [
      "2018臺北藝術節FAQ\n",
      "['臺北', '藝術節', 'FAQ']\n",
      "\n",
      "臺北市信義區Neo19大樓後方人行道後場使用作業通告(107/06/03-05)\n",
      "['臺北市', '信義區', 'Neo', '大樓', '後方', '人行道', '後場', '使用', '作業', '通告']\n",
      "\n",
      "2018台北電影節FAQ\n",
      "['台北', '電影節', 'FAQ']\n",
      "\n",
      "臺灣新文化運動紀念館位置與聯絡方式\n",
      "['臺灣', '新文化運動', '紀念館', '位置', '聯絡', '方式']\n",
      "\n",
      "臺灣新文化運動紀念館開館及參觀時間?\n",
      "['臺灣', '新文化運動', '紀念館', '開館', '參觀', '時間']\n",
      "\n",
      "2018臺北兒童藝術節FAQ\n",
      "['臺北', '兒童', '藝術節', 'FAQ']\n",
      "\n"
     ]
    }
   ],
   "source": [
    "for i,ele in enumerate(x):\n",
    "    print(ele)\n",
    "    sen_list = list(rmsw(ele))\n",
    "    print(sen_list)\n",
    "    print()\n",
    "    if i == 5 :break"
   ]
  },
  {
   "cell_type": "code",
   "execution_count": 9,
   "metadata": {
    "colab": {
     "base_uri": "https://localhost:8080/",
     "height": 74
    },
    "colab_type": "code",
    "id": "yCFyBcqZKX1x",
    "outputId": "d018c03b-5adc-49fa-fcf7-68ae613ea0f1"
   },
   "outputs": [],
   "source": [
    "from gensim import models\n",
    "model = models.Word2Vec.load('./model/word2vec_wiki_zh.model.bin')"
   ]
  },
  {
   "cell_type": "code",
   "execution_count": 10,
   "metadata": {
    "colab": {
     "base_uri": "https://localhost:8080/",
     "height": 72
    },
    "colab_type": "code",
    "id": "vHBYV3mQKcc6",
    "outputId": "1f6c4aff-f386-47c7-b99b-ec544d82db86"
   },
   "outputs": [
    {
     "name": "stderr",
     "output_type": "stream",
     "text": [
      "/usr/local/lib/python3.5/dist-packages/ipykernel_launcher.py:8: DeprecationWarning: Call to deprecated `__getitem__` (Method will be removed in 4.0.0, use self.wv.__getitem__() instead).\n",
      "  \n"
     ]
    },
    {
     "name": "stdout",
     "output_type": "stream",
     "text": [
      "7986\n"
     ]
    }
   ],
   "source": [
    "#將input斷詞並轉成word2vec向量\n",
    "x_vector = []\n",
    "for i,q in enumerate(x):\n",
    "    word_list = list(rmsw(q))\n",
    "    tmp=[]\n",
    "    for word in word_list:\n",
    "        try:\n",
    "            tmp.append(model[word])\n",
    "        except:\n",
    "            continue\n",
    "    x_vector.append(tmp)\n",
    "\n",
    "# print(len(tmp),len(tmp[0]))\n",
    "# print(tmp)\n",
    "# break\n",
    "\n",
    "print(len(x_vector))"
   ]
  },
  {
   "cell_type": "code",
   "execution_count": 11,
   "metadata": {
    "colab": {
     "base_uri": "https://localhost:8080/",
     "height": 35
    },
    "colab_type": "code",
    "id": "dJyV8diTLUqZ",
    "outputId": "b1aa7c3e-a85e-4c2d-97a1-fc78da0544e7"
   },
   "outputs": [
    {
     "name": "stdout",
     "output_type": "stream",
     "text": [
      "2 9 1 6\n"
     ]
    }
   ],
   "source": [
    "#input 長度不一樣須補成相同大小\n",
    "print(len(x_vector[0]),len(x_vector[1]),len(x_vector[2]),len(x_vector[3]))"
   ]
  },
  {
   "cell_type": "code",
   "execution_count": 12,
   "metadata": {
    "colab": {
     "base_uri": "https://localhost:8080/",
     "height": 54
    },
    "colab_type": "code",
    "id": "Bt7h2B0_LYzx",
    "outputId": "93077403-8a41-4d2c-a966-1e78d96c36ba"
   },
   "outputs": [
    {
     "name": "stdout",
     "output_type": "stream",
     "text": [
      "60\n",
      "8.303531179564237\n"
     ]
    }
   ],
   "source": [
    "# 找出input最大的長度\n",
    "max_len=0\n",
    "for v in x_vector:\n",
    "    if len(v) > max_len: max_len=len(v)\n",
    "print(max_len)\n",
    "\n",
    "# 找出平均input之長度\n",
    "total_len=0\n",
    "for v in range(len(x_vector)):\n",
    "    total_len += len(x_vector[v])\n",
    "print(total_len/len(x_vector))"
   ]
  },
  {
   "cell_type": "code",
   "execution_count": 13,
   "metadata": {
    "colab": {
     "base_uri": "https://localhost:8080/",
     "height": 54
    },
    "colab_type": "code",
    "id": "hbZ3fauELbyR",
    "outputId": "1867db42-d6a5-4c6a-966f-ab97c79e00c1"
   },
   "outputs": [
    {
     "name": "stdout",
     "output_type": "stream",
     "text": [
      "10 10 10 10\n",
      "10 10 10 10\n"
     ]
    }
   ],
   "source": [
    "#將input補齊至最大長度\n",
    "import numpy as np\n",
    "\n",
    "for v in x_vector:\n",
    "    while len(v) < 10:\n",
    "        v.append(np.zeros(400,dtype=float))\n",
    "    v = v[:10]\n",
    "print(len(x_vector[0]),len(x_vector[1]),len(x_vector[2]),len(x_vector[3]))\n",
    "# 只留下前10個input\n",
    "for i in range(len(x_vector)):\n",
    "    x_vector[i] = x_vector[i][:10]\n",
    "print(len(x_vector[0]),len(x_vector[1]),len(x_vector[2]),len(x_vector[3]))\n"
   ]
  },
  {
   "cell_type": "markdown",
   "metadata": {
    "colab_type": "text",
    "id": "VgKTbH_xLsB9"
   },
   "source": [
    "label 處理"
   ]
  },
  {
   "cell_type": "code",
   "execution_count": 14,
   "metadata": {
    "colab": {
     "base_uri": "https://localhost:8080/",
     "height": 54
    },
    "colab_type": "code",
    "id": "Ibs5JtnvLsla",
    "outputId": "c673b5e0-aadd-4d0a-f59e-8519ad8ca47d"
   },
   "outputs": [
    {
     "name": "stdout",
     "output_type": "stream",
     "text": [
      "78 100 110\n",
      "['臺北市政府文化局' '臺北市政府產業發展局科技產業服務中心' '臺北市政府社會局身心障礙者福利科']\n"
     ]
    },
    {
     "name": "stderr",
     "output_type": "stream",
     "text": [
      "/usr/local/lib/python3.5/dist-packages/sklearn/preprocessing/label.py:151: DeprecationWarning: The truth value of an empty array is ambiguous. Returning False, but in future this will result in an error. Use `array.size > 0` to check that an array is not empty.\n",
      "  if diff:\n"
     ]
    }
   ],
   "source": [
    "#將label 做 LabelEncoder\n",
    "from sklearn.preprocessing import LabelEncoder\n",
    "le = LabelEncoder()\n",
    "\n",
    "y_Encode = le.fit_transform(y) #y為答案 就是類別\n",
    "print(y_Encode[0], y_Encode[100], y_Encode[200])\n",
    "\n",
    "#反轉回文字\n",
    "print(le.inverse_transform([y_Encode[0], y_Encode[100], y_Encode[200]]))"
   ]
  },
  {
   "cell_type": "markdown",
   "metadata": {
    "colab_type": "text",
    "id": "KlGwk77UNOXb"
   },
   "source": [
    "切training data 與 testing data"
   ]
  },
  {
   "cell_type": "code",
   "execution_count": 15,
   "metadata": {
    "colab": {
     "base_uri": "https://localhost:8080/",
     "height": 35
    },
    "colab_type": "code",
    "id": "i1nW7Ie1NP1h",
    "outputId": "ca245ecf-a695-4c81-a813-4af9cb61d799"
   },
   "outputs": [
    {
     "name": "stdout",
     "output_type": "stream",
     "text": [
      "train數 7187  test數 799\n"
     ]
    }
   ],
   "source": [
    "from sklearn.model_selection import train_test_split\n",
    "#Sklearn-train_test_split隨機劃分訓練集和測試集 https://blog.csdn.net/CherDW/article/details/54881167\n",
    "x_train, x_test, y_train, y_test = train_test_split(x_vector, y_Encode, test_size=0.1)\n",
    "\n",
    "print(\"train數\",len(x_train),\" test數\",len(x_test))"
   ]
  },
  {
   "cell_type": "code",
   "execution_count": 16,
   "metadata": {
    "colab": {},
    "colab_type": "code",
    "id": "uUUMlGZkR_Cn"
   },
   "outputs": [],
   "source": [
    "import torch\n",
    "# new_tensor = torch.Tensor([[0,0],[0,0]])\n",
    "# print(x_train[0][0])\n",
    "x_train_tensor=torch.FloatTensor(x_train)\n",
    "y_train_tensor=torch.LongTensor(y_train)\n",
    "x_test_tensor=torch.Tensor(x_test)\n",
    "y_test_tensor=torch.LongTensor(y_test)"
   ]
  },
  {
   "cell_type": "markdown",
   "metadata": {
    "colab_type": "text",
    "id": "9JJx14GsQqRr"
   },
   "source": [
    "# PyTorch code"
   ]
  },
  {
   "cell_type": "code",
   "execution_count": 17,
   "metadata": {
    "colab": {
     "base_uri": "https://localhost:8080/",
     "height": 72
    },
    "colab_type": "code",
    "id": "JkJ8DtZ1Qq89",
    "outputId": "74de3078-1c02-4b6e-ad55-b90d294540f3"
   },
   "outputs": [
    {
     "name": "stdout",
     "output_type": "stream",
     "text": [
      "torch.Size([8, 10, 400]) torch.Size([1, 8, 400])\n",
      "torch.Size([8, 400])\n",
      "torch.Size([8, 149])\n"
     ]
    }
   ],
   "source": [
    "from torch import nn\n",
    "\n",
    "input_size = 400  # input的維度\n",
    "hidden_dim = 400  # 隱藏層維度\n",
    "num_layers = 1    # GRU迭代次數\n",
    "label_num = 149   # 總Label數量\n",
    "\n",
    "max_len = 10      # 句子最大長度\n",
    "batch_size = 8    # batch_size\n",
    "\n",
    "gru = nn.GRU(input_size, hidden_dim, num_layers=1, batch_first=True) # input_size,  隱藏層維度\n",
    "\n",
    "gru_input = torch.randn(batch_size, max_len, input_size) # batch_size, 句子最大長度, input的維度\n",
    "\n",
    "\n",
    "\n",
    "h0 = torch.zeros(num_layers, batch_size, hidden_dim) # (num_layers, batch, hidden_dim)\n",
    "\n",
    "gru_output, hidden = gru(gru_input,h0)\n",
    "\n",
    "print(gru_output.shape, hidden.shape)\n",
    "\n",
    "senVec_output = gru_output[:, -1, :] #只使用最後的输出做為句向量\n",
    "\n",
    "print(senVec_output.shape)\n",
    "\n",
    "liner = nn.Linear(hidden_dim, label_num)    # 將句向量經過一層liner判斷類別\n",
    "liner_output = liner(senVec_output)\n",
    "\n",
    "print(liner_output.shape)\n",
    "\n"
   ]
  },
  {
   "cell_type": "code",
   "execution_count": 18,
   "metadata": {
    "colab": {},
    "colab_type": "code",
    "id": "d4DBaLr3SEeW"
   },
   "outputs": [],
   "source": [
    "import torch.utils.data as Data\n",
    "BATCH_SIZE = 50\n",
    "train_dataset = Data.TensorDataset(x_train_tensor, y_train_tensor)\n",
    "loader = Data.DataLoader(\n",
    "    dataset = train_dataset,\n",
    "    batch_size = BATCH_SIZE,\n",
    "    shuffle = True,\n",
    ")\n",
    "test_dataset = Data.TensorDataset(x_test_tensor, y_test_tensor)\n",
    "t_loader = Data.DataLoader(\n",
    "    dataset = test_dataset,\n",
    "    batch_size = BATCH_SIZE,\n",
    "    shuffle = True,\n",
    ")"
   ]
  },
  {
   "cell_type": "markdown",
   "metadata": {
    "colab_type": "text",
    "id": "nJJgQb-3Bu9b"
   },
   "source": [
    "# 網路架構"
   ]
  },
  {
   "cell_type": "code",
   "execution_count": 19,
   "metadata": {
    "colab": {
     "base_uri": "https://localhost:8080/",
     "height": 90
    },
    "colab_type": "code",
    "id": "v8SXJS4cB0Qr",
    "outputId": "1e1466bd-4ca3-4221-f7a5-0e7fa57c18b2"
   },
   "outputs": [
    {
     "name": "stdout",
     "output_type": "stream",
     "text": [
      "RNN(\n",
      "  (gru): GRU(400, 400, batch_first=True)\n",
      "  (out): Linear(in_features=400, out_features=149, bias=True)\n",
      ")\n"
     ]
    }
   ],
   "source": [
    "import torch\n",
    "from torch import nn\n",
    "import torch.nn.functional as F\n",
    "\n",
    "class RNN(nn.Module):\n",
    "    def __init__(self):\n",
    "        super(RNN, self).__init__()\n",
    "\n",
    "        self.gru = nn.GRU(         # if use nn.RNN(), it hardly learns\n",
    "            input_size=400,\n",
    "            hidden_size=400,         # rnn hidden unit\n",
    "            num_layers=1,           # number of rnn layer\n",
    "            batch_first=True,       # input & output will has batch size as 1s dimension. e.g. (batch, time_step, input_size)\n",
    "        )\n",
    "\n",
    "        self.out = nn.Linear(400,149)\n",
    "        \n",
    "    def forward(self, x):\n",
    "        r_out,_= self.gru(x, None)  # None represents zero initial hidden state\n",
    "        \n",
    "        \n",
    "        out = F.relu(self.out(r_out[:, -1, :]))\n",
    "        \n",
    "        \n",
    "        return out\n",
    "\n",
    "\n",
    "rnn = RNN()\n",
    "print(rnn)"
   ]
  },
  {
   "cell_type": "markdown",
   "metadata": {
    "colab_type": "text",
    "id": "0IqDj-JetGgg"
   },
   "source": [
    "# train"
   ]
  },
  {
   "cell_type": "code",
   "execution_count": 20,
   "metadata": {
    "colab": {},
    "colab_type": "code",
    "id": "CZxHLtVeCeXK"
   },
   "outputs": [],
   "source": [
    "import numpy as np\n",
    "def accuracy(logits, labels):\n",
    "    outputs = np.argmax(logits, axis=1)\n",
    "    num_correct = torch.eq(outputs, labels).sum().item()\n",
    "    return num_correct"
   ]
  },
  {
   "cell_type": "code",
   "execution_count": 21,
   "metadata": {
    "colab": {
     "base_uri": "https://localhost:8080/",
     "height": 1000
    },
    "colab_type": "code",
    "id": "CEW-zscMtIqv",
    "outputId": "e36e50a9-3912-4690-8e70-0772cb402b9b"
   },
   "outputs": [
    {
     "name": "stderr",
     "output_type": "stream",
     "text": [
      "/usr/local/lib/python3.5/dist-packages/ipykernel_launcher.py:12: UserWarning: To copy construct from a tensor, it is recommended to use sourceTensor.clone().detach() or sourceTensor.clone().detach().requires_grad_(True), rather than torch.tensor(sourceTensor).\n",
      "  if sys.path[0] == '':\n"
     ]
    },
    {
     "name": "stdout",
     "output_type": "stream",
     "text": [
      "epoch: 1 train_loss: 4.6393 train_acc: 0.0792 test_loss: 4.1857 test_acc: 0.1727\n",
      "epoch: 2 train_loss: 3.79 train_acc: 0.25 test_loss: 3.5082 test_acc: 0.2991\n",
      "epoch: 3 train_loss: 3.2003 train_acc: 0.3573 test_loss: 3.1214 test_acc: 0.3579\n",
      "epoch: 4 train_loss: 2.8036 train_acc: 0.4387 test_loss: 2.8822 test_acc: 0.4005\n",
      "epoch: 5 train_loss: 2.415 train_acc: 0.5118 test_loss: 2.6366 test_acc: 0.428\n",
      "epoch: 6 train_loss: 2.0667 train_acc: 0.5852 test_loss: 2.4812 test_acc: 0.4606\n",
      "epoch: 7 train_loss: 1.7796 train_acc: 0.6494 test_loss: 2.395 test_acc: 0.4944\n",
      "epoch: 8 train_loss: 1.5613 train_acc: 0.705 test_loss: 2.3405 test_acc: 0.5044\n",
      "epoch: 9 train_loss: 1.3835 train_acc: 0.7436 test_loss: 2.318 test_acc: 0.5156\n",
      "epoch: 10 train_loss: 1.2282 train_acc: 0.7765 test_loss: 2.3098 test_acc: 0.5219\n",
      "epoch: 11 train_loss: 1.0932 train_acc: 0.8072 test_loss: 2.304 test_acc: 0.5232\n",
      "epoch: 12 train_loss: 0.9805 train_acc: 0.8314 test_loss: 2.3109 test_acc: 0.5232\n",
      "epoch: 13 train_loss: 0.8944 train_acc: 0.8472 test_loss: 2.3101 test_acc: 0.5219\n",
      "epoch: 14 train_loss: 0.8185 train_acc: 0.8597 test_loss: 2.3153 test_acc: 0.5382\n",
      "epoch: 15 train_loss: 0.7574 train_acc: 0.8699 test_loss: 2.3244 test_acc: 0.5319\n",
      "epoch: 16 train_loss: 0.6991 train_acc: 0.8802 test_loss: 2.3087 test_acc: 0.5432\n",
      "epoch: 17 train_loss: 0.6484 train_acc: 0.889 test_loss: 2.3754 test_acc: 0.5269\n",
      "epoch: 18 train_loss: 0.6249 train_acc: 0.8927 test_loss: 2.3925 test_acc: 0.5357\n",
      "epoch: 19 train_loss: 0.5916 train_acc: 0.892 test_loss: 2.4191 test_acc: 0.5269\n",
      "epoch: 20 train_loss: 0.5772 train_acc: 0.8947 test_loss: 2.3894 test_acc: 0.5444\n",
      "epoch: 21 train_loss: 0.5552 train_acc: 0.8972 test_loss: 2.4278 test_acc: 0.5394\n",
      "epoch: 22 train_loss: 0.5466 train_acc: 0.8983 test_loss: 2.4288 test_acc: 0.5257\n",
      "epoch: 23 train_loss: 0.5487 train_acc: 0.8972 test_loss: 2.4775 test_acc: 0.5369\n",
      "epoch: 24 train_loss: 0.5374 train_acc: 0.898 test_loss: 2.4669 test_acc: 0.5332\n",
      "epoch: 25 train_loss: 0.5223 train_acc: 0.9008 test_loss: 2.4346 test_acc: 0.5494\n",
      "epoch: 26 train_loss: 0.5208 train_acc: 0.8995 test_loss: 2.5278 test_acc: 0.5419\n",
      "epoch: 27 train_loss: 0.5088 train_acc: 0.9012 test_loss: 2.5155 test_acc: 0.5432\n",
      "epoch: 28 train_loss: 0.5078 train_acc: 0.9007 test_loss: 2.501 test_acc: 0.5457\n",
      "epoch: 29 train_loss: 0.4989 train_acc: 0.902 test_loss: 2.5529 test_acc: 0.5382\n",
      "epoch: 30 train_loss: 0.4931 train_acc: 0.9036 test_loss: 2.5343 test_acc: 0.5494\n"
     ]
    }
   ],
   "source": [
    "LR = 0.0003\n",
    "optimizer = torch.optim.AdamW(rnn.parameters(), lr=LR)\n",
    "loss_func = nn.CrossEntropyLoss()\n",
    "\n",
    "for epoch in range(30):\n",
    "    train_loss = 0.0\n",
    "    train_correct = 0\n",
    "    rnn.train()\n",
    "    for step, (x, y) in enumerate(loader):\n",
    "#         print(x.shape)\n",
    "        output = rnn(x)\n",
    "        train_correct += accuracy(torch.tensor(output),y)\n",
    "    \n",
    "        loss = loss_func(output, y)\n",
    "        train_loss += loss.item()\n",
    "        \n",
    "        optimizer.zero_grad()\n",
    "        loss.backward()\n",
    "        optimizer.step()\n",
    "#     print(train_loss/step)\n",
    "        \n",
    "    test_loss = 0.0\n",
    "    test_correct = 0\n",
    "    rnn.eval()\n",
    "    for step, (x, y) in enumerate(t_loader):\n",
    "        with torch.no_grad():\n",
    "            output = rnn(x)\n",
    "            loss = loss_func(output, y)\n",
    "        test_loss += loss.item()\n",
    "        test_correct += accuracy(output, y)\n",
    "\n",
    "    print(\n",
    "    'epoch:',epoch+1,\n",
    "    'train_loss:',round(train_loss/len(loader), 4),\n",
    "    'train_acc:',round(train_correct/len(train_dataset), 4),\n",
    "    'test_loss:',round(test_loss/len(t_loader), 4),\n",
    "    'test_acc:',round(test_correct/len(test_dataset), 4)    \n",
    "    )\n",
    "        "
   ]
  },
  {
   "cell_type": "markdown",
   "metadata": {
    "colab_type": "text",
    "id": "cBRM5NFBGazL"
   },
   "source": [
    "# 網路儲存"
   ]
  },
  {
   "cell_type": "code",
   "execution_count": 22,
   "metadata": {
    "colab": {
     "base_uri": "https://localhost:8080/",
     "height": 126
    },
    "colab_type": "code",
    "id": "jyN7jBpeGOte",
    "outputId": "6f5769e4-2514-4b6c-e37d-cd6b52b87381"
   },
   "outputs": [
    {
     "name": "stderr",
     "output_type": "stream",
     "text": [
      "/usr/local/lib/python3.5/dist-packages/torch/serialization.py:292: UserWarning: Couldn't retrieve source code for container of type RNN. It won't be checked for correctness upon loading.\n",
      "  \"type \" + obj.__name__ + \". It won't be checked \"\n",
      "/usr/local/lib/python3.5/dist-packages/torch/serialization.py:292: UserWarning: Couldn't retrieve source code for container of type GRU. It won't be checked for correctness upon loading.\n",
      "  \"type \" + obj.__name__ + \". It won't be checked \"\n",
      "/usr/local/lib/python3.5/dist-packages/torch/serialization.py:292: UserWarning: Couldn't retrieve source code for container of type Linear. It won't be checked for correctness upon loading.\n",
      "  \"type \" + obj.__name__ + \". It won't be checked \"\n"
     ]
    }
   ],
   "source": [
    "torch.save(rnn,\"rnn.pkl\")"
   ]
  },
  {
   "cell_type": "code",
   "execution_count": null,
   "metadata": {
    "colab": {
     "base_uri": "https://localhost:8080/",
     "height": 558
    },
    "colab_type": "code",
    "id": "ShZ-UfUnGkQx",
    "outputId": "95fbc64c-bece-45f6-f01d-9a6103879a09"
   },
   "outputs": [
    {
     "name": "stdout",
     "output_type": "stream",
     "text": [
      "問題:診所、藥局在臺北內湖科技園區設置之規定為何?\n"
     ]
    },
    {
     "name": "stderr",
     "output_type": "stream",
     "text": [
      "/usr/local/lib/python3.5/dist-packages/ipykernel_launcher.py:10: DeprecationWarning: Call to deprecated `__getitem__` (Method will be removed in 4.0.0, use self.wv.__getitem__() instead).\n",
      "  # Remove the CWD from sys.path while we load stuff.\n",
      "/usr/local/lib/python3.5/dist-packages/sklearn/preprocessing/label.py:151: DeprecationWarning: The truth value of an empty array is ambiguous. Returning False, but in future this will result in an error. Use `array.size > 0` to check that an array is not empty.\n",
      "  if diff:\n"
     ]
    },
    {
     "name": "stdout",
     "output_type": "stream",
     "text": [
      "['診所', '藥局', '臺北', '內湖科技園區', '設置', '規定', '為何']\n",
      "[0.0, 0.0, 0.0, 0.0, 0.0, 0.0, 0.0, 0.0, 0.0, 0.056695934385061264, 0.08180554211139679, 0.0, 0.0, 0.0, 0.0, 0.0, 0.0, 0.0, 0.0, 0.0, 0.9925494194030762, 1.1749348640441895, 0.0, 2.5930373668670654, 0.0, 0.0, 0.0, 0.0, 0.0, 0.0, 0.0, 0.0, 0.0, 0.0, 0.0, 0.0, 0.0, 0.0, 0.1135234385728836, 1.1916658878326416, 0.0, 0.0, 0.48978087306022644, 2.9751360416412354, 4.674118518829346, 0.0, 0.0, 0.0, 0.0, 0.0, 0.0, 0.0, 0.0, 0.0, 0.0, 0.0, 0.0, 0.0, 0.0, 0.0, 0.0, 0.0, 0.0, 0.0, 4.040330410003662, 0.0, 0.17874856293201447, 0.0, 0.0, 0.9844323992729187, 0.0, 0.0, 0.0, 0.0, 3.659186363220215, 0.0, 0.0, 0.0, 0.0, 0.0, 0.8727205991744995, 0.0, 0.0, 0.0, 0.0, 0.0, 1.5850470066070557, 1.6534565687179565, 0.0, 0.39732515811920166, 2.4462618827819824, 1.655893325805664, 0.0, 0.0, 0.0, 0.805568277835846, 0.0, 0.1620902121067047, 2.7334630489349365, 2.1340491771698, 10.248215675354004, 0.36413294076919556, 0.0, 1.7337937355041504, 2.528071880340576, 0.0, 0.0, 1.2478241920471191, 0.0, 0.0, 0.3869696259498596, 0.0, 3.3324387073516846, 3.6227636337280273, 1.0698304176330566, 0.9092661738395691, 0.0, 0.40663576126098633, 0.0, 0.0, 0.0, 0.0, 4.011294841766357, 0.0, 0.0, 0.0, 0.0, 0.0, 1.4531548023223877, 0.0, 0.0, 4.345244407653809, 0.0, 0.9672574400901794, 0.0, 0.0, 0.0, 0.0, 0.0, 0.0, 0.0, 1.4644567966461182, 0.0, 3.4015002250671387, 0.0, 0.0, 0.026732109487056732, 0.0, 0.0]\n",
      "相關局處: ['臺北市政府產業發展局科技產業服務中心']\n",
      "問題:使用本市失能身心障礙日間照顧中心資格為何？\n"
     ]
    },
    {
     "name": "stderr",
     "output_type": "stream",
     "text": [
      "/usr/local/lib/python3.5/dist-packages/sklearn/preprocessing/label.py:151: DeprecationWarning: The truth value of an empty array is ambiguous. Returning False, but in future this will result in an error. Use `array.size > 0` to check that an array is not empty.\n",
      "  if diff:\n"
     ]
    },
    {
     "name": "stdout",
     "output_type": "stream",
     "text": [
      "['使用', '本市', '失能', '身心障礙', '日間', '照顧', '中心', '資格', '為何']\n",
      "[0.0, 0.0, 0.0, 0.0, 0.0, 0.0, 0.0, 5.754073143005371, 3.6789369583129883, 1.331752896308899, 2.6624255180358887, 0.0, 0.0, 2.0237984657287598, 0.0, 0.0, 0.0, 0.0, 0.0, 2.9091451168060303, 0.0, 0.8446336388587952, 0.0, 0.0, 0.0, 0.0, 0.0, 0.2338891178369522, 0.0, 0.0, 0.0, 0.0, 0.0, 2.9569203853607178, 0.0, 0.0, 0.0, 0.0, 0.0, 0.0, 0.0, 0.0, 0.9246938228607178, 1.379549264907837, 0.0, 2.4801244735717773, 0.0, 0.0, 0.0, 0.0, 0.0, 0.0, 0.0, 0.0, 0.0, 1.4730082750320435, 0.0, 1.5630829334259033, 1.352105736732483, 0.8455406427383423, 0.0, 0.0, 0.0, 2.118631362915039, 1.4148914813995361, 0.0, 0.27066826820373535, 0.0, 0.0, 0.0, 0.0, 2.2784531116485596, 0.0, 0.0, 0.0, 0.0, 0.0, 0.0, 0.0, 0.0, 1.9046190977096558, 2.5042543411254883, 0.0, 0.0, 0.0, 0.0, 0.0, 0.0, 0.5060649514198303, 0.0, 0.0, 0.0, 0.0, 0.0, 0.0, 0.0, 0.0, 2.7346508502960205, 0.0, 0.0, 1.088938593864441, 0.0, 0.0, 2.455970048904419, 0.0, 0.03186297044157982, 0.35599082708358765, 1.500070571899414, 4.6036763191223145, 6.068242073059082, 16.227006912231445, 0.0, 3.3958113193511963, 0.4036571681499481, 0.0, 2.523747682571411, 0.0, 0.0, 0.0, 0.0, 0.0, 0.0, 0.0, 0.0, 0.0, 0.0, 0.0, 0.0, 0.15165749192237854, 2.5004689693450928, 0.0, 3.289043426513672, 0.0, 0.0, 0.0, 0.0, 0.0, 0.0, 0.0, 0.0, 5.1008100509643555, 1.3982776403427124, 0.0, 1.4621806144714355, 0.0, 0.0, 0.0, 0.0, 0.49743008613586426]\n",
      "相關局處: ['臺北市政府社會局身心障礙者福利科']\n",
      "問題:如何知道護理之家有無空床位可申請入住？\n"
     ]
    },
    {
     "name": "stderr",
     "output_type": "stream",
     "text": [
      "/usr/local/lib/python3.5/dist-packages/sklearn/preprocessing/label.py:151: DeprecationWarning: The truth value of an empty array is ambiguous. Returning False, but in future this will result in an error. Use `array.size > 0` to check that an array is not empty.\n",
      "  if diff:\n"
     ]
    },
    {
     "name": "stdout",
     "output_type": "stream",
     "text": [
      "['護理', '之家', '有無', '空', '床位', '申請', '入住']\n",
      "[0.0, 0.0, 0.0, 1.6212931871414185, 0.0, 0.0, 0.0, 7.300157070159912, 1.008862853050232, 4.112353324890137, 2.752234935760498, 0.0, 0.0, 0.0, 0.0, 0.0, 0.0, 0.0, 2.5234336853027344, 0.0, 0.8529079556465149, 7.278026103973389, 0.0, 0.05331875756382942, 0.0, 0.0, 0.0, 0.0, 1.7923346757888794, 0.0, 0.3439505100250244, 0.0, 0.0, 5.774489879608154, 0.0, 0.0, 1.4977205991744995, 0.0, 3.9149439334869385, 0.0, 0.0, 0.0, 1.266196846961975, 2.99326491355896, 2.553163766860962, 0.0, 0.0, 0.0, 0.0, 0.0, 0.0, 0.0, 0.0, 0.0, 0.0, 0.0, 0.0, 0.0, 0.0, 0.0, 0.0, 0.0, 0.0, 0.489365816116333, 2.4007229804992676, 0.0, 0.0, 0.0, 0.0, 0.0, 0.0, 3.7981698513031006, 0.04427178204059601, 0.0, 0.0, 0.0, 0.0, 0.0, 0.0, 0.0, 1.7078373432159424, 3.1562604904174805, 0.0, 0.6351320147514343, 0.0, 5.30369234085083, 0.0, 0.0, 0.7807392477989197, 2.692464590072632, 0.3199706971645355, 2.3027446269989014, 0.49506616592407227, 0.0, 0.0, 0.0, 0.0, 1.4006065130233765, 0.0, 0.0, 0.02865143120288849, 0.0, 0.0, 6.070270538330078, 1.8781429529190063, 1.8101050853729248, 0.0, 5.27819299697876, 2.1896018981933594, 4.427960395812988, 7.960440158843994, 0.0, 6.276302337646484, 7.405280590057373, 9.374402046203613, 7.109457015991211, 0.0, 0.0, 1.6222985982894897, 0.0, 0.0, 0.0, 0.0, 0.0, 0.0, 0.48748457431793213, 0.0, 0.0, 1.291363000869751, 7.44813346862793, 0.2197115123271942, 5.992613315582275, 0.0, 2.447631597518921, 0.015639163553714752, 2.169194459915161, 4.192084789276123, 0.0, 0.0, 0.0, 16.289291381835938, 5.120573043823242, 0.0, 4.712907314300537, 0.0, 0.0, 2.1288156509399414, 0.0, 4.082779884338379]\n",
      "相關局處: ['臺北市立聯合醫院']\n"
     ]
    }
   ],
   "source": [
    "trained = torch.load(\"rnn.pkl\")\n",
    "while True:\n",
    "    # 存下input的向量\n",
    "    a=input(\"問題:\")\n",
    "    word_vec = list(rmsw(a))\n",
    "    print(word_vec)\n",
    "    tmp = []\n",
    "    for word in word_vec:\n",
    "        try:\n",
    "            tmp.append(model[word])\n",
    "        except:\n",
    "            continue\n",
    "\n",
    "    while len(tmp)<10:\n",
    "        tmp.append(np.zeros(400,dtype=float))\n",
    "\n",
    "    tmp = tmp[:10]\n",
    "\n",
    "    # 丟入網路\n",
    "    tmp_tensor = torch.Tensor([tmp])\n",
    "    li = trained(tmp_tensor).tolist()[0]\n",
    "    print(li)\n",
    "    class_value = li.index(max(li))\n",
    "    print(\"相關局處:\",le.inverse_transform([class_value]))"
   ]
  },
  {
   "cell_type": "code",
   "execution_count": null,
   "metadata": {
    "colab": {},
    "colab_type": "code",
    "id": "AzykQRCZ5yDZ"
   },
   "outputs": [],
   "source": []
  },
  {
   "cell_type": "code",
   "execution_count": null,
   "metadata": {
    "colab": {},
    "colab_type": "code",
    "id": "l_cNOIPy5yB8"
   },
   "outputs": [],
   "source": []
  }
 ],
 "metadata": {
  "accelerator": "GPU",
  "colab": {
   "collapsed_sections": [],
   "name": "RNN_taipeiQA.ipynb",
   "provenance": []
  },
  "kernelspec": {
   "display_name": "Python 3",
   "language": "python",
   "name": "python3"
  },
  "language_info": {
   "codemirror_mode": {
    "name": "ipython",
    "version": 3
   },
   "file_extension": ".py",
   "mimetype": "text/x-python",
   "name": "python",
   "nbconvert_exporter": "python",
   "pygments_lexer": "ipython3",
   "version": "3.5.2"
  }
 },
 "nbformat": 4,
 "nbformat_minor": 1
}
